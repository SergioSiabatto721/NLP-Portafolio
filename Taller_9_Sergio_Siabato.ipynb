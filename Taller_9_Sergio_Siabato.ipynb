{
 "cells": [
  {
   "cell_type": "markdown",
   "metadata": {},
   "source": [
    "<img src='https://encrypted-tbn0.gstatic.com/images?q=tbn%3AANd9GcQ-VfNtOyJbsaxu43Kztf_cv1mgBG6ZIQZEVw&usqp=CAU'>\n",
    "\n",
    "# Procesamiento de Lenguaje Natural\n",
    "\n",
    "## Taller #9: Modelado de temas\n",
    "`Fecha de entrega: Mayo 6, 2021. (Antes del inicio de la próxima clase).`\n",
    "\n",
    "`Modo de entrega: Subir link de GitHub al aula virtual.`"
   ]
  },
  {
   "cell_type": "code",
   "execution_count": null,
   "metadata": {},
   "outputs": [
    {
     "name": "stdout",
     "output_type": "stream",
     "text": [
      "showing info https://raw.githubusercontent.com/nltk/nltk_data/gh-pages/index.xml\n"
     ]
    }
   ],
   "source": [
    "import nltk\n",
    "nltk.download()"
   ]
  },
  {
   "cell_type": "code",
   "execution_count": 2,
   "metadata": {},
   "outputs": [
    {
     "name": "stderr",
     "output_type": "stream",
     "text": [
      "C:\\Users\\Ser-G\\anaconda3\\lib\\site-packages\\sklearn\\decomposition\\_lda.py:28: DeprecationWarning: `np.float` is a deprecated alias for the builtin `float`. To silence this warning, use `float` by itself. Doing this will not modify any behavior and is safe. If you specifically wanted the numpy scalar type, use `np.float64` here.\n",
      "Deprecated in NumPy 1.20; for more details and guidance: https://numpy.org/devdocs/release/1.20.0-notes.html#deprecations\n",
      "  EPS = np.finfo(np.float).eps\n",
      "C:\\Users\\Ser-G\\anaconda3\\lib\\site-packages\\scipy\\sparse\\sparsetools.py:21: DeprecationWarning: `scipy.sparse.sparsetools` is deprecated!\n",
      "scipy.sparse.sparsetools is a private module for scipy.sparse, and should not be used.\n",
      "  _deprecated()\n",
      "C:\\Users\\Ser-G\\anaconda3\\lib\\site-packages\\gensim\\similarities\\__init__.py:15: UserWarning: The gensim.similarities.levenshtein submodule is disabled, because the optional Levenshtein package <https://pypi.org/project/python-Levenshtein/> is unavailable. Install Levenhstein (e.g. `pip install python-Levenshtein`) to suppress this warning.\n",
      "  warnings.warn(msg)\n"
     ]
    }
   ],
   "source": [
    "import re\n",
    "import pandas as pd \n",
    "from pprint import pprint\n",
    "\n",
    "from nltk.corpus import stopwords\n",
    "stopwords = stopwords.words('spanish')\n",
    "\n",
    "import pyLDAvis.gensim_models\n",
    "from gensim.models import LdaModel\n",
    "from gensim.corpora import Dictionary\n",
    "\n",
    "import warnings\n",
    "warnings.filterwarnings(\"ignore\", category=DeprecationWarning)"
   ]
  },
  {
   "cell_type": "code",
   "execution_count": 3,
   "metadata": {},
   "outputs": [
    {
     "data": {
      "text/html": [
       "<div>\n",
       "<style scoped>\n",
       "    .dataframe tbody tr th:only-of-type {\n",
       "        vertical-align: middle;\n",
       "    }\n",
       "\n",
       "    .dataframe tbody tr th {\n",
       "        vertical-align: top;\n",
       "    }\n",
       "\n",
       "    .dataframe thead th {\n",
       "        text-align: right;\n",
       "    }\n",
       "</style>\n",
       "<table border=\"1\" class=\"dataframe\">\n",
       "  <thead>\n",
       "    <tr style=\"text-align: right;\">\n",
       "      <th></th>\n",
       "      <th>review_id</th>\n",
       "      <th>product_id</th>\n",
       "      <th>reviewer_id</th>\n",
       "      <th>stars</th>\n",
       "      <th>review_body</th>\n",
       "      <th>review_title</th>\n",
       "      <th>language</th>\n",
       "      <th>product_category</th>\n",
       "    </tr>\n",
       "  </thead>\n",
       "  <tbody>\n",
       "    <tr>\n",
       "      <th>0</th>\n",
       "      <td>es_0825565</td>\n",
       "      <td>product_es_0370490</td>\n",
       "      <td>reviewer_es_0174781</td>\n",
       "      <td>3</td>\n",
       "      <td>Buen. Buena calidad, y buena presentación.</td>\n",
       "      <td>Contenta</td>\n",
       "      <td>es</td>\n",
       "      <td>jewelry</td>\n",
       "    </tr>\n",
       "    <tr>\n",
       "      <th>1</th>\n",
       "      <td>es_0227934</td>\n",
       "      <td>product_es_0354224</td>\n",
       "      <td>reviewer_es_0411613</td>\n",
       "      <td>3</td>\n",
       "      <td>Un producto a perfecto, para salir de casa con...</td>\n",
       "      <td>Versatilidad</td>\n",
       "      <td>es</td>\n",
       "      <td>video_games</td>\n",
       "    </tr>\n",
       "    <tr>\n",
       "      <th>2</th>\n",
       "      <td>es_0468601</td>\n",
       "      <td>product_es_0665460</td>\n",
       "      <td>reviewer_es_0348315</td>\n",
       "      <td>1</td>\n",
       "      <td>No funciona con Nintendo Switch. No hay forma ...</td>\n",
       "      <td>Decepción absoluta</td>\n",
       "      <td>es</td>\n",
       "      <td>video_games</td>\n",
       "    </tr>\n",
       "    <tr>\n",
       "      <th>3</th>\n",
       "      <td>es_0814494</td>\n",
       "      <td>product_es_0692692</td>\n",
       "      <td>reviewer_es_0951508</td>\n",
       "      <td>5</td>\n",
       "      <td>Recomendado, los utilizo para pc y no me dan n...</td>\n",
       "      <td>Auriculares Pecham ps4</td>\n",
       "      <td>es</td>\n",
       "      <td>video_games</td>\n",
       "    </tr>\n",
       "    <tr>\n",
       "      <th>4</th>\n",
       "      <td>es_0206329</td>\n",
       "      <td>product_es_0728826</td>\n",
       "      <td>reviewer_es_0493255</td>\n",
       "      <td>4</td>\n",
       "      <td>El cable funciona bien podria ser un poco mas ...</td>\n",
       "      <td>Perfecto</td>\n",
       "      <td>es</td>\n",
       "      <td>video_games</td>\n",
       "    </tr>\n",
       "  </tbody>\n",
       "</table>\n",
       "</div>"
      ],
      "text/plain": [
       "    review_id          product_id          reviewer_id  stars  \\\n",
       "0  es_0825565  product_es_0370490  reviewer_es_0174781      3   \n",
       "1  es_0227934  product_es_0354224  reviewer_es_0411613      3   \n",
       "2  es_0468601  product_es_0665460  reviewer_es_0348315      1   \n",
       "3  es_0814494  product_es_0692692  reviewer_es_0951508      5   \n",
       "4  es_0206329  product_es_0728826  reviewer_es_0493255      4   \n",
       "\n",
       "                                         review_body            review_title  \\\n",
       "0         Buen. Buena calidad, y buena presentación.                Contenta   \n",
       "1  Un producto a perfecto, para salir de casa con...            Versatilidad   \n",
       "2  No funciona con Nintendo Switch. No hay forma ...      Decepción absoluta   \n",
       "3  Recomendado, los utilizo para pc y no me dan n...  Auriculares Pecham ps4   \n",
       "4  El cable funciona bien podria ser un poco mas ...                Perfecto   \n",
       "\n",
       "  language product_category  \n",
       "0       es          jewelry  \n",
       "1       es      video_games  \n",
       "2       es      video_games  \n",
       "3       es      video_games  \n",
       "4       es      video_games  "
      ]
     },
     "execution_count": 3,
     "metadata": {},
     "output_type": "execute_result"
    }
   ],
   "source": [
    "# Cargar datos\n",
    "path = 'reviews_vidjew_es.csv'\n",
    "data = pd.read_csv(path)\n",
    "data.head()"
   ]
  },
  {
   "cell_type": "markdown",
   "metadata": {},
   "source": [
    "###  `[12 pts]` Punto 1: Hacer pre-procesamiento del texto"
   ]
  },
  {
   "cell_type": "code",
   "execution_count": 4,
   "metadata": {},
   "outputs": [
    {
     "data": {
      "text/html": [
       "<div>\n",
       "<style scoped>\n",
       "    .dataframe tbody tr th:only-of-type {\n",
       "        vertical-align: middle;\n",
       "    }\n",
       "\n",
       "    .dataframe tbody tr th {\n",
       "        vertical-align: top;\n",
       "    }\n",
       "\n",
       "    .dataframe thead th {\n",
       "        text-align: right;\n",
       "    }\n",
       "</style>\n",
       "<table border=\"1\" class=\"dataframe\">\n",
       "  <thead>\n",
       "    <tr style=\"text-align: right;\">\n",
       "      <th></th>\n",
       "      <th>review_id</th>\n",
       "      <th>product_id</th>\n",
       "      <th>reviewer_id</th>\n",
       "      <th>stars</th>\n",
       "      <th>review_body</th>\n",
       "      <th>review_title</th>\n",
       "      <th>language</th>\n",
       "      <th>product_category</th>\n",
       "      <th>pp</th>\n",
       "    </tr>\n",
       "  </thead>\n",
       "  <tbody>\n",
       "    <tr>\n",
       "      <th>0</th>\n",
       "      <td>es_0825565</td>\n",
       "      <td>product_es_0370490</td>\n",
       "      <td>reviewer_es_0174781</td>\n",
       "      <td>3</td>\n",
       "      <td>Buen. Buena calidad, y buena presentación.</td>\n",
       "      <td>Contenta</td>\n",
       "      <td>es</td>\n",
       "      <td>jewelry</td>\n",
       "      <td>[buen, buena, calidad, buena, presentación]</td>\n",
       "    </tr>\n",
       "    <tr>\n",
       "      <th>1</th>\n",
       "      <td>es_0227934</td>\n",
       "      <td>product_es_0354224</td>\n",
       "      <td>reviewer_es_0411613</td>\n",
       "      <td>3</td>\n",
       "      <td>Un producto a perfecto, para salir de casa con...</td>\n",
       "      <td>Versatilidad</td>\n",
       "      <td>es</td>\n",
       "      <td>video_games</td>\n",
       "      <td>[producto, perfecto, salir, casa, nintendo, sw...</td>\n",
       "    </tr>\n",
       "    <tr>\n",
       "      <th>2</th>\n",
       "      <td>es_0468601</td>\n",
       "      <td>product_es_0665460</td>\n",
       "      <td>reviewer_es_0348315</td>\n",
       "      <td>1</td>\n",
       "      <td>No funciona con Nintendo Switch. No hay forma ...</td>\n",
       "      <td>Decepción absoluta</td>\n",
       "      <td>es</td>\n",
       "      <td>video_games</td>\n",
       "      <td>[funciona, nintendo, switch, forma, emparejarl...</td>\n",
       "    </tr>\n",
       "    <tr>\n",
       "      <th>3</th>\n",
       "      <td>es_0814494</td>\n",
       "      <td>product_es_0692692</td>\n",
       "      <td>reviewer_es_0951508</td>\n",
       "      <td>5</td>\n",
       "      <td>Recomendado, los utilizo para pc y no me dan n...</td>\n",
       "      <td>Auriculares Pecham ps4</td>\n",
       "      <td>es</td>\n",
       "      <td>video_games</td>\n",
       "      <td>[recomendado, utilizo, pc, dan, ningún, proble...</td>\n",
       "    </tr>\n",
       "    <tr>\n",
       "      <th>4</th>\n",
       "      <td>es_0206329</td>\n",
       "      <td>product_es_0728826</td>\n",
       "      <td>reviewer_es_0493255</td>\n",
       "      <td>4</td>\n",
       "      <td>El cable funciona bien podria ser un poco mas ...</td>\n",
       "      <td>Perfecto</td>\n",
       "      <td>es</td>\n",
       "      <td>video_games</td>\n",
       "      <td>[cable, funciona, bien, podria, ser, mas, larg...</td>\n",
       "    </tr>\n",
       "  </tbody>\n",
       "</table>\n",
       "</div>"
      ],
      "text/plain": [
       "    review_id          product_id          reviewer_id  stars  \\\n",
       "0  es_0825565  product_es_0370490  reviewer_es_0174781      3   \n",
       "1  es_0227934  product_es_0354224  reviewer_es_0411613      3   \n",
       "2  es_0468601  product_es_0665460  reviewer_es_0348315      1   \n",
       "3  es_0814494  product_es_0692692  reviewer_es_0951508      5   \n",
       "4  es_0206329  product_es_0728826  reviewer_es_0493255      4   \n",
       "\n",
       "                                         review_body            review_title  \\\n",
       "0         Buen. Buena calidad, y buena presentación.                Contenta   \n",
       "1  Un producto a perfecto, para salir de casa con...            Versatilidad   \n",
       "2  No funciona con Nintendo Switch. No hay forma ...      Decepción absoluta   \n",
       "3  Recomendado, los utilizo para pc y no me dan n...  Auriculares Pecham ps4   \n",
       "4  El cable funciona bien podria ser un poco mas ...                Perfecto   \n",
       "\n",
       "  language product_category                                                 pp  \n",
       "0       es          jewelry        [buen, buena, calidad, buena, presentación]  \n",
       "1       es      video_games  [producto, perfecto, salir, casa, nintendo, sw...  \n",
       "2       es      video_games  [funciona, nintendo, switch, forma, emparejarl...  \n",
       "3       es      video_games  [recomendado, utilizo, pc, dan, ningún, proble...  \n",
       "4       es      video_games  [cable, funciona, bien, podria, ser, mas, larg...  "
      ]
     },
     "execution_count": 4,
     "metadata": {},
     "output_type": "execute_result"
    }
   ],
   "source": [
    "def pre_procesado(texto):\n",
    "    texto = texto.lower()\n",
    "    texto = re.sub(r\"[\\W\\d]+\", \" \", texto)\n",
    "    texto = [palabra for palabra in texto.split() if palabra not in stopwords]\n",
    "    return texto \n",
    "\n",
    "data['pp'] = data['review_body'].apply(lambda texto: pre_procesado(texto))\n",
    "\n",
    "data.head()"
   ]
  },
  {
   "cell_type": "markdown",
   "metadata": {},
   "source": [
    "###  `[10 pts]` Punto 2: Modelo de LDA"
   ]
  },
  {
   "cell_type": "code",
   "execution_count": 5,
   "metadata": {},
   "outputs": [],
   "source": [
    "# Crear una represantación de los documentos en forma de diccionario\n",
    "dictionary = Dictionary(data['pp'].values)\n",
    "\n",
    "# Filtrar palabras muy frecuentes o infrecuentes\n",
    "dictionary.filter_extremes(no_below=5, no_above=0.5) \n",
    "\n",
    "# Corpus\n",
    "corpus = [dictionary.doc2bow(text) for text in data['pp'].values]\n",
    "\n",
    "# Entrenar el modelo\n",
    "model = LdaModel(corpus = corpus, id2word = dictionary, num_topics = 4, passes=10)"
   ]
  },
  {
   "cell_type": "code",
   "execution_count": 7,
   "metadata": {},
   "outputs": [
    {
     "data": {
      "text/plain": [
       "[(0,\n",
       "  '0.029*\"calidad\" + 0.024*\"parece\" + 0.023*\"precio\" + 0.021*\"producto\" + 0.016*\"tamaño\" + 0.015*\"bonitos\" + 0.014*\"perfecto\" + 0.014*\"bonito\" + 0.012*\"aunque\" + 0.011*\"bonita\" + 0.011*\"colgante\" + 0.010*\"cadena\" + 0.010*\"caja\" + 0.010*\"foto\" + 0.010*\"buen\" + 0.010*\"regalo\" + 0.009*\"ser\" + 0.009*\"buena\" + 0.008*\"igual\" + 0.008*\"llegó\"'),\n",
       " (1,\n",
       "  '0.025*\"calidad\" + 0.018*\"precio\" + 0.017*\"buena\" + 0.014*\"comprar\" + 0.013*\"si\" + 0.013*\"mando\" + 0.012*\"amazon\" + 0.012*\"ps\" + 0.012*\"llegó\" + 0.011*\"juego\" + 0.011*\"consola\" + 0.011*\"buen\" + 0.011*\"producto\" + 0.010*\"va\" + 0.009*\"jugar\" + 0.009*\"cumple\" + 0.009*\"día\" + 0.008*\"puede\" + 0.008*\"color\" + 0.008*\"días\"'),\n",
       " (2,\n",
       "  '0.031*\"si\" + 0.024*\"bien\" + 0.023*\"calidad\" + 0.017*\"plata\" + 0.015*\"foto\" + 0.014*\"bonito\" + 0.013*\"pulsera\" + 0.012*\"demasiado\" + 0.011*\"precio\" + 0.011*\"mando\" + 0.010*\"pedido\" + 0.010*\"mas\" + 0.010*\"mejor\" + 0.010*\"grandes\" + 0.009*\"así\" + 0.009*\"grande\" + 0.009*\"solo\" + 0.009*\"queda\" + 0.008*\"mal\" + 0.008*\"buena\"'),\n",
       " (3,\n",
       "  '0.058*\"bien\" + 0.043*\"juego\" + 0.020*\"llegado\" + 0.018*\"producto\" + 0.016*\"bastante\" + 0.013*\"día\" + 0.012*\"regalo\" + 0.012*\"viene\" + 0.012*\"perfectamente\" + 0.011*\"llego\" + 0.011*\"caja\" + 0.011*\"funciona\" + 0.010*\"mas\" + 0.010*\"precio\" + 0.009*\"recomiendo\" + 0.009*\"buen\" + 0.008*\"aunque\" + 0.008*\"hacer\" + 0.008*\"español\" + 0.008*\"si\"')]"
      ]
     },
     "execution_count": 7,
     "metadata": {},
     "output_type": "execute_result"
    }
   ],
   "source": [
    "model.print_topics(num_words=20)"
   ]
  },
  {
   "cell_type": "markdown",
   "metadata": {},
   "source": [
    "###  `[25 pts]` Punto 3: Visualización de LDA"
   ]
  },
  {
   "cell_type": "code",
   "execution_count": 8,
   "metadata": {},
   "outputs": [
    {
     "data": {
      "text/html": [
       "\n",
       "<link rel=\"stylesheet\" type=\"text/css\" href=\"https://cdn.jsdelivr.net/gh/bmabey/pyLDAvis@3.3.1/pyLDAvis/js/ldavis.v1.0.0.css\">\n",
       "\n",
       "\n",
       "<div id=\"ldavis_el1414416672518702888894703795\"></div>\n",
       "<script type=\"text/javascript\">\n",
       "\n",
       "var ldavis_el1414416672518702888894703795_data = {\"mdsDat\": {\"x\": [-0.003485150781809686, -0.008003155749410304, -0.11147348496592516, 0.12296179149714509], \"y\": [-0.13904124990650252, 0.07912381152032431, 0.03079269983821349, 0.029124738547964647], \"topics\": [1, 2, 3, 4], \"cluster\": [1, 1, 1, 1], \"Freq\": [26.57396125180174, 25.48530074626677, 24.57480201545649, 23.36593598647499]}, \"tinfo\": {\"Term\": [\"juego\", \"bien\", \"parece\", \"calidad\", \"plata\", \"tama\\u00f1o\", \"comprar\", \"llegado\", \"consola\", \"bonitos\", \"demasiado\", \"si\", \"pulsera\", \"ps\", \"bonita\", \"colgante\", \"foto\", \"pedido\", \"bastante\", \"espa\\u00f1ol\", \"amazon\", \"paquete\", \"va\", \"llego\", \"igual\", \"caja\", \"grandes\", \"aunque\", \"d\\u00eda\", \"hacer\", \"espa\\u00f1ol\", \"sitio\", \"contento\", \"historia\", \"divertido\", \"ni\\u00f1os\", \"rapidez\", \"ingles\", \"hacer\", \"horas\", \"mayor\", \"llegado\", \"one\", \"encanta\", \"envio\", \"piedra\", \"xbox\", \"modo\", \"servicio\", \"adapta\", \"juego\", \"prime\", \"rapido\", \"cd\", \"todav\\u00eda\", \"italiano\", \"hija\", \"previsto\", \"llego\", \"igualmente\", \"bien\", \"recomiendo\", \"viene\", \"bastante\", \"perfectamente\", \"funciona\", \"trae\", \"d\\u00eda\", \"caja\", \"producto\", \"regalo\", \"quedan\", \"aunque\", \"mas\", \"verdad\", \"buen\", \"tiempo\", \"precio\", \"dos\", \"perfecto\", \"si\", \"entrega\", \"parte\", \"puede\", \"puedes\", \"plata\", \"fino\", \"parecido\", \"pandora\", \"cerrar\", \"mu\\u00f1eca\", \"juegazo\", \"simplemente\", \"usado\", \"cabe\", \"mont\\u00f3n\", \"interesante\", \"q\", \"realidad\", \"aceptable\", \"pedido\", \"originales\", \"demasiado\", \"presentaci\\u00f3n\", \"mujer\", \"encant\\u00f3\", \"grandes\", \"carga\", \"mandos\", \"conjunto\", \"elegante\", \"anillo\", \"perfecta\", \"acierto\", \"encantada\", \"pulsera\", \"si\", \"gusto\", \"todas\", \"foto\", \"grande\", \"mejor\", \"bonito\", \"vez\", \"calidad\", \"recomendable\", \"peque\\u00f1o\", \"mando\", \"queda\", \"bien\", \"as\\u00ed\", \"mal\", \"original\", \"parte\", \"mas\", \"solo\", \"precio\", \"puede\", \"buena\", \"dos\", \"gustado\", \"malo\", \"parece\", \"gust\\u00f3\", \"deber\\u00edan\", \"peque\\u00f1as\", \"perlas\", \"igual\", \"tama\\u00f1o\", \"puesta\", \"cuello\", \"tra\\u00eda\", \"juguete\", \"c\\u00f3digo\", \"misma\", \"merece\", \"colgante\", \"bonita\", \"devolverlo\", \"resulta\", \"acabado\", \"encantado\", \"bonitos\", \"preciosa\", \"opini\\u00f3n\", \"dio\", \"adecuado\", \"venga\", \"venido\", \"rompi\\u00f3\", \"r\\u00e1pido\", \"casi\", \"disco\", \"collar\", \"ve\", \"material\", \"cadena\", \"gusta\", \"pl\\u00e1stico\", \"aunque\", \"calidad\", \"producto\", \"perfecto\", \"precio\", \"comprado\", \"bonito\", \"ser\", \"caja\", \"peque\\u00f1os\", \"foto\", \"buen\", \"lleg\\u00f3\", \"regalo\", \"esperaba\", \"gracias\", \"buena\", \"mas\", \"pena\", \"gustado\", \"si\", \"bien\", \"consola\", \"comprar\", \"paquete\", \"voy\", \"funcionar\", \"funci\\u00f3n\", \"piel\", \"semana\", \"\\u00fanica\", \"ah\\u00ed\", \"devolver\", \"alg\\u00fan\", \"rat\\u00f3n\", \"veo\", \"c\\u00f3modo\", \"casa\", \"pro\", \"va\", \"usb\", \"lamentable\", \"totalmente\", \"dice\", \"productos\", \"ps\", \"tiendas\", \"ped\\u00ed\", \"luces\", \"junto\", \"jugabilidad\", \"dorado\", \"dinero\", \"volver\\u00eda\", \"color\", \"cumple\", \"amazon\", \"d\\u00edas\", \"entregado\", \"buena\", \"lleg\\u00f3\", \"calidad\", \"jugar\", \"mando\", \"uso\", \"despu\\u00e9s\", \"switch\", \"precio\", \"buen\", \"si\", \"d\\u00eda\", \"puede\", \"juego\", \"producto\", \"solo\", \"sido\", \"perfecto\", \"pena\", \"as\\u00ed\", \"original\"], \"Freq\": [115.0, 184.0, 48.0, 145.0, 35.0, 34.0, 25.0, 49.0, 20.0, 39.0, 29.0, 113.0, 37.0, 29.0, 26.0, 25.0, 52.0, 24.0, 52.0, 17.0, 35.0, 14.0, 22.0, 33.0, 17.0, 46.0, 24.0, 42.0, 48.0, 19.0, 16.41566379252073, 9.378652176729188, 8.448020500456462, 9.258370081668465, 5.70933176058687, 4.820595710832497, 4.792862764556572, 4.75098025076379, 16.525196262481103, 7.538625351561338, 5.249666570549347, 40.38426126176142, 5.198910019724828, 6.573113356951977, 11.636384406723224, 7.995376706651819, 9.415968183841064, 6.511123415115778, 11.44296421153085, 4.2664252343416145, 87.1940877458309, 4.737355192269866, 8.035769521157148, 4.658888174127547, 8.639024207650325, 5.871257998821917, 5.76921757828018, 5.058517218439294, 22.552054077760573, 3.7617578726039316, 116.90855043404058, 18.04552500362746, 24.230514796335015, 32.26716193348232, 23.18603188027202, 21.450616974793157, 10.644133223111742, 25.323692755437758, 22.41539887157506, 36.43583601347955, 24.545958269219597, 12.041863599887177, 16.94959337215432, 21.076361054465764, 11.728769178126727, 17.60401953357409, 14.330429467443595, 20.556550133781606, 13.136993481853832, 15.10248052374898, 15.641319882486526, 10.891883186847364, 11.356716195695654, 10.882244396927726, 12.976740305948534, 31.958402322971814, 7.727403390343029, 6.810703547250539, 8.473190946526866, 5.911035468537858, 4.975517686102782, 4.961099387176433, 4.91073661889602, 4.882981067846291, 7.307935672732578, 4.838683299992674, 4.823345190575058, 13.220374211570592, 6.19404112567163, 5.410810815075686, 20.07487475094342, 6.885534262676345, 23.715209810135914, 6.848307987100563, 9.695874193112376, 8.849678183476517, 18.691819311496655, 11.504134488458384, 11.444065653514503, 4.165448491064862, 6.766123728132998, 6.7549800084507075, 4.054100221232814, 4.063989082266374, 6.690286071729934, 24.798053117970902, 59.44290749758372, 13.033998509029939, 11.539719656839297, 28.061508403900575, 17.000508788154125, 19.32113855898104, 27.08700332199506, 14.395482416301126, 45.1262009213936, 11.182029250300063, 15.13522114060196, 21.667835615410088, 16.74576439818979, 46.70878876676539, 17.29897651354125, 16.278091065516485, 15.002834900539467, 14.14650390870344, 19.80217249834098, 16.83854129897208, 22.160223465521614, 15.052863069788632, 15.361235824753107, 13.405626200317716, 12.521633524811197, 12.920417472847724, 43.729736017438725, 6.6825994922384355, 5.7788050093040235, 5.777356787973056, 5.7530665996387285, 15.50448087248014, 30.11417230572647, 4.844464489612488, 4.8408833466143495, 4.815266199500691, 4.772143936897284, 4.765225475245905, 7.887153686546016, 5.372157105520083, 20.25667365498896, 20.89452680284979, 6.323185517719448, 6.119117966537624, 7.480430426747845, 10.170920770984731, 28.10838056536959, 6.621561986872425, 3.88746476290613, 3.8885050223669504, 4.487316392486928, 3.870652143202332, 3.865493287791301, 6.351735486260534, 13.83008929181161, 9.309917677119977, 6.874652523036376, 10.282917997514712, 13.912559953179294, 12.862655788698053, 19.40131533290286, 13.782082313779979, 11.655017627854043, 21.80656843853708, 54.04584617381948, 39.97225648135616, 26.06387662156398, 42.13472810003766, 9.527524192191965, 25.5522058202913, 17.30524708749727, 19.28503840446121, 11.495135552005149, 18.62553296184468, 18.604185555790234, 15.325907906618713, 17.830492365264526, 13.210054809752615, 10.815162722994616, 15.86063071895741, 15.021038260906167, 12.22671512450874, 12.23200217176007, 14.380544187902919, 13.102423901242616, 20.1275373930735, 24.539969087030396, 13.439742652452306, 7.781779338342571, 6.865495763600791, 5.931015362310589, 4.955894654256649, 9.006117632506086, 4.897577594985144, 4.855529835275273, 9.51833579624452, 6.3233406062726365, 7.880214571453387, 7.0145857141394545, 8.423798594118896, 9.768878891726123, 6.731474783385031, 17.572793701271813, 5.814604014991646, 4.323054314109997, 8.616222694947803, 8.6426175848972, 5.725861183123091, 21.94895115739061, 4.812575754929229, 10.273818489555891, 4.043340129801635, 4.0118692678022185, 3.990267047495896, 4.629876997482923, 9.20462532310274, 5.2888371607071125, 14.349789044696996, 15.915364264472453, 22.05137486014339, 13.729613722181758, 9.483525836544642, 29.572590927465686, 20.93597210632485, 44.858906903921664, 16.637785402182622, 22.448092114966595, 12.867174487606485, 13.658810356390198, 11.587758581897392, 31.376528886331123, 19.550687573536663, 23.861703594235262, 15.8589903797044, 15.018664380387513, 20.172205288270856, 19.117564312313988, 13.389872369741363, 11.15922992569898, 12.774214238220585, 10.854206294965506, 10.810133005401326, 10.39447154922068], \"Total\": [115.0, 184.0, 48.0, 145.0, 35.0, 34.0, 25.0, 49.0, 20.0, 39.0, 29.0, 113.0, 37.0, 29.0, 26.0, 25.0, 52.0, 24.0, 52.0, 17.0, 35.0, 14.0, 22.0, 33.0, 17.0, 46.0, 24.0, 42.0, 48.0, 19.0, 17.52251617539701, 10.15145117636786, 9.230984176749294, 10.151885874031068, 6.466536462402538, 5.544195796736995, 5.545165367157787, 5.544510851385326, 19.429249198192796, 9.262573674041318, 6.482193336133727, 49.991351894861104, 6.47878700388211, 8.340825584680712, 14.83888821205922, 10.19615534126563, 12.052462811354436, 8.342086005227648, 14.782364345895703, 5.547535191623663, 115.89575384697667, 6.50043789682762, 11.152034491586104, 6.5009376924477555, 12.078467481898194, 8.318513073563496, 8.317429662660397, 7.4218743293909535, 33.28665489670558, 5.55353300392636, 184.21281775714561, 27.81454987392541, 38.134059104997526, 52.85511754147238, 37.040586829708275, 34.43404620326424, 16.74848238182183, 48.49554939101152, 46.31857261487754, 104.32008258522742, 61.52455524339678, 22.434881952315788, 42.619282572205115, 64.56933866357335, 23.227947796789525, 60.802124659530094, 42.08226177550573, 116.228030585672, 39.306716283847805, 58.763586466339525, 113.32647516220842, 23.24683530949943, 30.990396860460514, 50.78673475283999, 14.243342287583872, 35.11603837675052, 8.549832785827364, 7.596992051174922, 9.50010282017238, 6.646631511673472, 5.695289715996686, 5.694317158644901, 5.69332544410235, 5.694410560197241, 8.539628239995995, 5.690868017156188, 5.690291285859708, 16.102726788662437, 7.589524274003841, 6.635012724469159, 24.716883174327243, 8.519760727805256, 29.404437795384627, 8.52380023743617, 12.298605250535374, 11.34732140736955, 24.566437369102292, 15.207805596146255, 15.176396570818579, 5.669149855532913, 9.446245224625262, 9.44760776699797, 5.670297144798343, 5.696250459889595, 9.473797000950604, 37.99439063728097, 113.32647516220842, 20.725760705373354, 17.98265582613972, 52.65065372294108, 30.174535806083796, 35.93452055989727, 63.76039496959038, 26.39986186724937, 145.1185080039014, 18.93654884264532, 30.043544590818453, 53.05480039203, 35.76750873168573, 184.21281775714561, 40.56343885674652, 36.77203075011859, 32.16214071435449, 30.990396860460514, 64.56933866357335, 46.17371204872129, 116.228030585672, 50.78673475283999, 66.06200277473313, 39.306716283847805, 32.806160255086155, 13.906500368034934, 48.25082627996782, 7.42190016042163, 6.495574149529673, 6.495328010845223, 6.495433297204402, 17.6107832636765, 34.37400946181824, 5.5689975663606885, 5.569682183245951, 5.56974670615529, 5.571077981875628, 5.568417510472125, 9.2924097011721, 6.501120814947792, 25.1060092510404, 26.06089674613168, 8.34379805992799, 8.359916660125343, 10.254809985899744, 13.981910314596947, 39.17396134495371, 9.325975611122228, 5.59572597909875, 5.597414610103625, 6.4879833590567575, 5.59757531479948, 5.595419262288506, 9.338448089737222, 20.38559860927808, 13.958898016873917, 10.22841110811612, 15.855254423047366, 22.344679679368006, 20.53497700218088, 32.482961580550594, 22.46083450704513, 18.624292212398704, 42.619282572205115, 145.1185080039014, 104.32008258522742, 58.763586466339525, 116.228030585672, 14.808358924868982, 63.76039496959038, 36.35861625031424, 46.31857261487754, 21.436764012032196, 52.65065372294108, 60.802124659530094, 43.21898703029029, 61.52455524339678, 34.54484674727633, 21.381876378768833, 66.06200277473313, 64.56933866357335, 30.885278517454644, 32.806160255086155, 113.32647516220842, 184.21281775714561, 20.958825783731758, 25.714047534765733, 14.282577869051293, 8.563557166268735, 7.611090726124418, 6.658882913493002, 5.703929895038073, 10.470417290116508, 5.702026236742157, 5.700682412205381, 11.385743510224133, 7.596691172505835, 9.49783773467449, 8.541798666130337, 10.463699375831201, 12.353405812446615, 8.527907006641083, 22.769836041069254, 7.575247596794022, 5.686380172711237, 11.354874406270113, 11.41145566721626, 7.5966457422736795, 29.458145980827506, 6.620185182892289, 14.226874402250363, 5.677668354064742, 5.676654070503688, 5.671096167773474, 6.61352347003146, 13.21843043974608, 7.557574347844578, 21.79686520934107, 24.507950858722957, 35.02310671400195, 21.684561975498863, 15.075006643238396, 66.06200277473313, 43.21898703029029, 145.1185080039014, 34.048546090066864, 53.05480039203, 23.70014980065904, 27.26692759970186, 20.89752631847059, 116.228030585672, 60.802124659530094, 113.32647516220842, 48.49554939101152, 50.78673475283999, 115.89575384697667, 104.32008258522742, 46.17371204872129, 27.28726298230219, 58.763586466339525, 30.885278517454644, 40.56343885674652, 32.16214071435449], \"Category\": [\"Default\", \"Default\", \"Default\", \"Default\", \"Default\", \"Default\", \"Default\", \"Default\", \"Default\", \"Default\", \"Default\", \"Default\", \"Default\", \"Default\", \"Default\", \"Default\", \"Default\", \"Default\", \"Default\", \"Default\", \"Default\", \"Default\", \"Default\", \"Default\", \"Default\", \"Default\", \"Default\", \"Default\", \"Default\", \"Default\", \"Topic1\", \"Topic1\", \"Topic1\", \"Topic1\", \"Topic1\", \"Topic1\", \"Topic1\", \"Topic1\", \"Topic1\", \"Topic1\", \"Topic1\", \"Topic1\", \"Topic1\", \"Topic1\", \"Topic1\", \"Topic1\", \"Topic1\", \"Topic1\", \"Topic1\", \"Topic1\", \"Topic1\", \"Topic1\", \"Topic1\", \"Topic1\", \"Topic1\", \"Topic1\", \"Topic1\", \"Topic1\", \"Topic1\", \"Topic1\", \"Topic1\", \"Topic1\", \"Topic1\", \"Topic1\", \"Topic1\", \"Topic1\", \"Topic1\", \"Topic1\", \"Topic1\", \"Topic1\", \"Topic1\", \"Topic1\", \"Topic1\", \"Topic1\", \"Topic1\", \"Topic1\", \"Topic1\", \"Topic1\", \"Topic1\", \"Topic1\", \"Topic1\", \"Topic1\", \"Topic1\", \"Topic1\", \"Topic2\", \"Topic2\", \"Topic2\", \"Topic2\", \"Topic2\", \"Topic2\", \"Topic2\", \"Topic2\", \"Topic2\", \"Topic2\", \"Topic2\", \"Topic2\", \"Topic2\", \"Topic2\", \"Topic2\", \"Topic2\", \"Topic2\", \"Topic2\", \"Topic2\", \"Topic2\", \"Topic2\", \"Topic2\", \"Topic2\", \"Topic2\", \"Topic2\", \"Topic2\", \"Topic2\", \"Topic2\", \"Topic2\", \"Topic2\", \"Topic2\", \"Topic2\", \"Topic2\", \"Topic2\", \"Topic2\", \"Topic2\", \"Topic2\", \"Topic2\", \"Topic2\", \"Topic2\", \"Topic2\", \"Topic2\", \"Topic2\", \"Topic2\", \"Topic2\", \"Topic2\", \"Topic2\", \"Topic2\", \"Topic2\", \"Topic2\", \"Topic2\", \"Topic2\", \"Topic2\", \"Topic2\", \"Topic2\", \"Topic2\", \"Topic2\", \"Topic3\", \"Topic3\", \"Topic3\", \"Topic3\", \"Topic3\", \"Topic3\", \"Topic3\", \"Topic3\", \"Topic3\", \"Topic3\", \"Topic3\", \"Topic3\", \"Topic3\", \"Topic3\", \"Topic3\", \"Topic3\", \"Topic3\", \"Topic3\", \"Topic3\", \"Topic3\", \"Topic3\", \"Topic3\", \"Topic3\", \"Topic3\", \"Topic3\", \"Topic3\", \"Topic3\", \"Topic3\", \"Topic3\", \"Topic3\", \"Topic3\", \"Topic3\", \"Topic3\", \"Topic3\", \"Topic3\", \"Topic3\", \"Topic3\", \"Topic3\", \"Topic3\", \"Topic3\", \"Topic3\", \"Topic3\", \"Topic3\", \"Topic3\", \"Topic3\", \"Topic3\", \"Topic3\", \"Topic3\", \"Topic3\", \"Topic3\", \"Topic3\", \"Topic3\", \"Topic3\", \"Topic3\", \"Topic3\", \"Topic3\", \"Topic3\", \"Topic3\", \"Topic3\", \"Topic3\", \"Topic4\", \"Topic4\", \"Topic4\", \"Topic4\", \"Topic4\", \"Topic4\", \"Topic4\", \"Topic4\", \"Topic4\", \"Topic4\", \"Topic4\", \"Topic4\", \"Topic4\", \"Topic4\", \"Topic4\", \"Topic4\", \"Topic4\", \"Topic4\", \"Topic4\", \"Topic4\", \"Topic4\", \"Topic4\", \"Topic4\", \"Topic4\", \"Topic4\", \"Topic4\", \"Topic4\", \"Topic4\", \"Topic4\", \"Topic4\", \"Topic4\", \"Topic4\", \"Topic4\", \"Topic4\", \"Topic4\", \"Topic4\", \"Topic4\", \"Topic4\", \"Topic4\", \"Topic4\", \"Topic4\", \"Topic4\", \"Topic4\", \"Topic4\", \"Topic4\", \"Topic4\", \"Topic4\", \"Topic4\", \"Topic4\", \"Topic4\", \"Topic4\", \"Topic4\", \"Topic4\", \"Topic4\", \"Topic4\", \"Topic4\", \"Topic4\", \"Topic4\"], \"logprob\": [30.0, 29.0, 28.0, 27.0, 26.0, 25.0, 24.0, 23.0, 22.0, 21.0, 20.0, 19.0, 18.0, 17.0, 16.0, 15.0, 14.0, 13.0, 12.0, 11.0, 10.0, 9.0, 8.0, 7.0, 6.0, 5.0, 4.0, 3.0, 2.0, 1.0, -4.8083, -5.3681, -5.4726, -5.381, -5.8645, -6.0337, -6.0394, -6.0482, -4.8017, -5.5865, -5.9484, -3.9081, -5.9581, -5.7236, -5.1524, -5.5277, -5.3642, -5.7331, -5.1692, -6.1558, -3.1384, -6.0511, -5.5227, -6.0678, -5.4503, -5.8365, -5.854, -5.9855, -4.4908, -6.2817, -2.8452, -4.7137, -4.419, -4.1325, -4.463, -4.5408, -5.2416, -4.3748, -4.4968, -4.011, -4.406, -5.1182, -4.7763, -4.5584, -5.1445, -4.7385, -4.9442, -4.5834, -5.0311, -4.8917, -4.8567, -5.2186, -5.1768, -5.2194, -5.0016, -4.1003, -5.52, -5.6463, -5.4278, -5.7879, -5.9602, -5.9631, -5.9733, -5.979, -5.5758, -5.9881, -5.9913, -4.983, -5.7412, -5.8763, -4.5653, -5.6353, -4.3986, -5.6407, -5.293, -5.3844, -4.6367, -5.122, -5.1273, -6.1379, -5.6528, -5.6545, -6.165, -6.1626, -5.6641, -4.354, -3.4797, -4.9972, -5.119, -4.2303, -4.7315, -4.6035, -4.2657, -4.8978, -3.7553, -5.1504, -4.8477, -4.4889, -4.7466, -3.7208, -4.7141, -4.7749, -4.8565, -4.9153, -4.579, -4.7411, -4.4664, -4.8532, -4.8329, -4.9691, -5.0373, -4.9696, -3.7503, -5.6289, -5.7742, -5.7744, -5.7786, -4.7872, -4.1234, -5.9505, -5.9513, -5.9566, -5.9656, -5.967, -5.4631, -5.8471, -4.5199, -4.4889, -5.6841, -5.7169, -5.5161, -5.2088, -4.1923, -5.638, -6.1706, -6.1703, -6.0271, -6.1749, -6.1763, -5.6796, -4.9015, -5.2973, -5.6005, -5.1979, -4.8956, -4.974, -4.563, -4.905, -5.0726, -4.4462, -3.5385, -3.8402, -4.2678, -3.7875, -5.2742, -4.2876, -4.6774, -4.569, -5.0864, -4.6038, -4.605, -4.7988, -4.6475, -4.9474, -5.1474, -4.7645, -4.8189, -5.0247, -5.0243, -4.8625, -4.9556, -4.4758, -4.2776, -4.8797, -5.4261, -5.5514, -5.6977, -5.8773, -5.28, -5.8892, -5.8978, -5.2247, -5.6337, -5.4136, -5.5299, -5.3469, -5.1987, -5.5711, -4.6116, -5.7176, -6.014, -5.3243, -5.3212, -5.7329, -4.3892, -5.9067, -5.1483, -6.0809, -6.0887, -6.0941, -5.9454, -5.2582, -5.8123, -4.8142, -4.7106, -4.3846, -4.8584, -5.2284, -4.0911, -4.4365, -3.6744, -4.6662, -4.3667, -4.9232, -4.8635, -5.028, -4.0319, -4.5049, -4.3057, -4.7142, -4.7686, -4.4736, -4.5273, -4.8834, -5.0657, -4.9305, -5.0934, -5.0974, -5.1367], \"loglift\": [30.0, 29.0, 28.0, 27.0, 26.0, 25.0, 24.0, 23.0, 22.0, 21.0, 20.0, 19.0, 18.0, 17.0, 16.0, 15.0, 14.0, 13.0, 12.0, 11.0, 10.0, 9.0, 8.0, 7.0, 6.0, 5.0, 4.0, 3.0, 2.0, 1.0, 1.26, 1.2461, 1.2366, 1.2331, 1.2007, 1.1854, 1.1794, 1.1708, 1.1633, 1.1193, 1.1143, 1.1118, 1.1052, 1.0871, 1.0821, 1.0821, 1.0784, 1.0774, 1.0692, 1.0627, 1.0407, 1.0088, 0.9975, 0.9921, 0.9901, 0.9768, 0.9594, 0.9419, 0.9359, 0.9357, 0.8705, 0.8926, 0.8717, 0.8317, 0.8568, 0.8519, 0.8719, 0.6755, 0.5994, 0.2733, 0.4063, 0.703, 0.4032, 0.2057, 0.6419, 0.0857, 0.248, -0.4071, 0.2293, -0.0334, -0.6551, 0.5671, 0.3214, -0.2153, 1.2739, 1.2728, 1.2659, 1.2578, 1.2527, 1.2498, 1.232, 1.2292, 1.2192, 1.2133, 1.2113, 1.2048, 1.2018, 1.1698, 1.1639, 1.1631, 1.1591, 1.1541, 1.152, 1.1482, 1.1293, 1.1185, 1.0938, 1.088, 1.0848, 1.0589, 1.0334, 1.0316, 1.0316, 1.0294, 1.0192, 0.9404, 0.7218, 0.9033, 0.9235, 0.7378, 0.7933, 0.7466, 0.511, 0.7606, 0.199, 0.8403, 0.6814, 0.4716, 0.6082, -0.0051, 0.5148, 0.5522, 0.6045, 0.5829, 0.1851, 0.3583, -0.2902, 0.151, -0.0917, 0.2913, 0.4039, 1.3299, 1.3051, 1.2985, 1.2865, 1.2863, 1.2821, 1.2761, 1.2711, 1.2641, 1.2632, 1.2579, 1.2487, 1.2477, 1.2395, 1.2127, 1.1888, 1.1825, 1.1262, 1.0914, 1.088, 1.0852, 1.0715, 1.061, 1.0392, 1.0392, 1.0348, 1.0345, 1.0336, 1.018, 1.0155, 0.9984, 1.0061, 0.9704, 0.9297, 0.9356, 0.8881, 0.915, 0.9347, 0.7334, 0.4157, 0.4442, 0.5905, 0.3888, 0.9624, 0.489, 0.661, 0.5272, 0.7803, 0.3643, 0.2192, 0.3667, 0.1649, 0.4422, 0.7219, -0.0233, -0.0548, 0.4768, 0.4169, -0.6609, -1.2398, 1.4134, 1.4072, 1.3931, 1.3582, 1.3508, 1.3381, 1.3133, 1.3032, 1.3018, 1.2934, 1.2747, 1.2704, 1.2672, 1.2569, 1.237, 1.2192, 1.2173, 1.1948, 1.1894, 1.1798, 1.1779, 1.176, 1.1712, 1.1596, 1.135, 1.1284, 1.1144, 1.1068, 1.1024, 1.0973, 1.092, 1.0969, 1.0359, 1.0222, 0.9913, 0.9968, 0.9904, 0.6501, 0.7291, 0.2799, 0.7378, 0.5938, 0.8431, 0.7626, 0.8642, 0.1444, 0.3193, -0.1041, 0.3362, 0.2355, -0.2945, -0.243, 0.216, 0.5597, -0.0722, 0.4082, 0.1315, 0.3244]}, \"token.table\": {\"Topic\": [2, 3, 2, 3, 2, 4, 1, 3, 1, 3, 4, 3, 4, 1, 2, 4, 2, 3, 1, 2, 3, 4, 1, 2, 3, 4, 1, 2, 3, 4, 1, 2, 3, 4, 2, 3, 4, 1, 2, 3, 4, 1, 2, 3, 4, 1, 2, 3, 4, 1, 2, 3, 4, 1, 2, 1, 3, 4, 1, 2, 3, 4, 1, 2, 3, 4, 2, 4, 2, 3, 4, 1, 3, 4, 1, 2, 2, 1, 2, 3, 4, 1, 2, 3, 1, 2, 3, 4, 1, 3, 1, 4, 1, 2, 4, 1, 3, 1, 3, 4, 3, 2, 4, 3, 1, 2, 4, 1, 2, 3, 4, 1, 4, 1, 3, 2, 4, 1, 4, 3, 4, 1, 3, 4, 1, 1, 4, 1, 2, 3, 4, 1, 2, 3, 4, 1, 3, 4, 1, 2, 4, 1, 2, 2, 3, 4, 2, 3, 1, 2, 1, 2, 3, 4, 1, 4, 1, 4, 1, 3, 1, 2, 3, 4, 2, 1, 2, 3, 4, 1, 2, 3, 4, 4, 4, 1, 2, 3, 4, 1, 2, 3, 4, 1, 2, 3, 2, 3, 4, 1, 2, 3, 4, 1, 2, 3, 3, 1, 2, 1, 3, 1, 1, 4, 1, 3, 1, 3, 1, 2, 1, 3, 2, 1, 2, 3, 4, 1, 4, 1, 2, 3, 4, 3, 3, 4, 3, 4, 1, 2, 3, 4, 1, 2, 3, 1, 2, 3, 4, 3, 4, 1, 2, 3, 4, 3, 1, 2, 3, 4, 1, 2, 4, 1, 2, 3, 4, 1, 2, 3, 4, 1, 4, 1, 2, 3, 4, 3, 2, 3, 1, 2, 2, 1, 2, 3, 2, 1, 1, 2, 3, 4, 1, 2, 3, 4, 1, 2, 2, 4, 1, 2, 3, 4, 2, 1, 2, 3, 4, 1, 2, 4, 2, 3, 4, 1, 2, 3, 4, 3, 1, 2, 3, 4, 1, 2, 3, 2, 3, 1, 2, 3, 4, 1, 2, 3, 4, 3, 1, 2, 4, 4, 1, 2, 3, 1, 2, 3, 1, 2, 3, 4, 2, 3, 4, 2, 3, 1, 3, 4, 1, 4, 1, 4, 1, 2, 3, 4, 1, 2, 4, 1, 2, 3, 4, 1, 2, 3, 4, 2, 3, 3, 2, 3, 4, 2, 3, 1, 2, 3, 4, 1, 2, 4, 1, 1, 4, 1, 2, 4, 2, 3, 4, 1, 2, 4, 1, 2, 3, 4, 1, 2, 3, 4, 1, 2, 3, 4, 3, 4, 1, 2, 3, 2, 4, 1, 2, 3, 4, 1, 2, 3, 1, 2, 3, 4, 1, 2, 4, 2, 1, 1, 2, 3, 4, 1, 2, 4, 2, 3, 1, 2, 3, 4, 1, 4, 1, 2, 4, 1, 2, 1, 4, 1, 2, 3, 3, 2, 1, 4, 1, 2, 3, 4, 2, 3, 4, 1, 2, 3, 3, 4, 2, 3, 3, 4, 1, 2, 3, 4, 1, 2, 3, 4, 1, 2, 3, 4, 1, 4, 4, 1, 2, 4], \"Freq\": [0.19503042989094668, 0.6826065046183134, 0.7535780574407308, 0.15071561148814616, 0.7022163137253499, 0.17555407843133747, 0.7210409419375441, 0.18026023548438602, 0.3082621963276376, 0.6165243926552753, 0.8770879762210234, 0.13163625811448396, 0.7898175486869038, 0.19986804874741332, 0.1713154703549257, 0.6281567246347276, 0.7409283040360902, 0.21169380115316863, 0.14791645306971005, 0.41909661703084516, 0.14791645306971005, 0.2711801639611351, 0.3988804825890438, 0.04692711559871104, 0.5161982715858213, 0.02346355779935552, 0.6054286034817997, 0.15135715087044993, 0.2270357263056749, 0.01891964385880624, 0.6351349565383952, 0.2551396833957656, 0.07057055072648835, 0.03799952731426296, 0.11511499505270485, 0.8058049653689339, 0.07674333003513656, 0.12546973719054733, 0.4234603630180972, 0.40777664586927875, 0.04705115144645524, 0.025527160533863585, 0.22974444480477227, 0.7147604949481804, 0.05105432106772717, 0.29604228636406194, 0.08223396843446165, 0.31248908005095427, 0.3289358737378466, 0.07568647316142768, 0.22705941948428304, 0.24219671411656857, 0.4541188389685661, 0.11710111633623865, 0.8197078143536706, 0.27706833250662755, 0.5849220352917692, 0.12314148111405669, 0.4749714587045282, 0.021589611759296738, 0.41020262342663805, 0.06476883527789022, 0.006890919798962622, 0.310091390953318, 0.3721096691439816, 0.310091390953318, 0.789068476982693, 0.19726711924567325, 0.08094933617354777, 0.08094933617354777, 0.8094933617354776, 0.1432777857952929, 0.6447500360788181, 0.1432777857952929, 0.7691198157165205, 0.1538239631433041, 0.9027128989266527, 0.0398311013909373, 0.1194933041728119, 0.7966220278187459, 0.0398311013909373, 0.063070574165394, 0.252282296661576, 0.6307057416539399, 0.04587815680813812, 0.13763447042441437, 0.13763447042441437, 0.6422941953139337, 0.3376471373612548, 0.6752942747225096, 0.03888924910199325, 0.9722312275498313, 0.1763932909665514, 0.7055731638662056, 0.9542519321632991, 0.8666464860973484, 0.8977172907711681, 0.28562159441039253, 0.040803084915770366, 0.6528493586523259, 0.8979211760965943, 0.09556849485849868, 0.7645479588679894, 0.9237058744736898, 0.10202541605712609, 0.8162033284570087, 0.10202541605712609, 0.2200467939800304, 0.0733489313266768, 0.2200467939800304, 0.5134425192867377, 0.08782913466318851, 0.8782913466318851, 0.11984949693384962, 0.7190969816030978, 0.17526247819073246, 0.7886811518582961, 0.22695584121541354, 0.6808675236462406, 0.7146156357222121, 0.17865390893055302, 0.19553379101207854, 0.6843682685422748, 0.19553379101207854, 0.9278537335844227, 0.15120533018918025, 0.7560266509459013, 0.3307322826491627, 0.3307322826491627, 0.22896850337249727, 0.10176377927666545, 0.5155112234821627, 0.02062044893928651, 0.14434314257500555, 0.32992718302858415, 0.13834727228475566, 0.18446302971300754, 0.6456206039955263, 0.2117243362247502, 0.7410351767866258, 0.1058621681123751, 0.8392454594490794, 0.11989220849272562, 0.7388800920367639, 0.10555429886239484, 0.10555429886239484, 0.21456295545452297, 0.7152098515150765, 0.17625304934969888, 0.793138722073645, 0.4731826871722635, 0.04301660792475123, 0.3011162554732586, 0.17206643169900493, 0.33167481237845114, 0.5970146622812121, 0.8086859223218541, 0.20217148058046353, 0.9131108705988961, 0.057069429412431004, 0.2894787773458119, 0.11579151093832477, 0.3763224105495555, 0.20263514414206835, 0.9356908141245996, 0.07597246600296455, 0.5318072620207518, 0.3608692135140816, 0.037986233001482274, 0.6098615270490422, 0.0871230752927203, 0.0871230752927203, 0.20328717568301405, 0.9197104924755526, 0.901052034995555, 0.280611481130707, 0.09353716037690234, 0.5144543820729628, 0.09353716037690234, 0.09942157915135647, 0.5633889485243533, 0.23198368468649844, 0.09942157915135647, 0.20352971515066332, 0.7734129175725205, 0.04070594303013266, 0.17808777312994975, 0.6233072059548241, 0.17808777312994975, 0.15241039978840001, 0.39626703944984004, 0.36578495949216006, 0.09144623987304001, 0.09649826746679946, 0.6272387385341964, 0.2894948024003984, 0.9431546974086941, 0.8749694765138556, 0.1029375854722183, 0.7213767045047487, 0.2404589015015829, 0.886534788873303, 0.8636908359952132, 0.10796135449940165, 0.05678339146121749, 0.9085342633794798, 0.7202622181540995, 0.18006555453852488, 0.9017928062582334, 0.8786896397421566, 0.7212827517297766, 0.24042758390992552, 0.8780684076244657, 0.7506746115554046, 0.008628443810981662, 0.06902755048785329, 0.17256887621963324, 0.1763327530368101, 0.7053310121472404, 0.1762189781651325, 0.2936982969418875, 0.058739659388377496, 0.49928710480120875, 0.8974923733371685, 0.17616010903255025, 0.704640436130201, 0.1758588011401294, 0.7034352045605176, 0.8001383936190737, 0.10001729920238421, 0.040006919680953684, 0.040006919680953684, 0.6909675986179176, 0.0600841390102537, 0.2403365560410148, 0.11568989334469407, 0.04627595733787763, 0.3470696800340822, 0.48589755204771506, 0.17612863901852996, 0.7045145560741198, 0.1631674910959507, 0.43511330958920186, 0.1631674910959507, 0.24475123664392603, 0.9348146302776082, 0.11309061490506205, 0.4146655879852275, 0.05654530745253102, 0.4146655879852275, 0.06589179423018085, 0.7248097365319893, 0.1317835884603617, 0.3252317653339557, 0.30974453841329114, 0.23230840380996837, 0.139385042285981, 0.09739480106491444, 0.04869740053245722, 0.6330662069219438, 0.2434870026622861, 0.7713438555015741, 0.1542687711003148, 0.02782839410179844, 0.5287394879341704, 0.19479875871258906, 0.22262715281438752, 0.7690981512762662, 0.10761471266961732, 0.8609177013569386, 0.8391186563664512, 0.11987409376663588, 0.8786005904418382, 0.08131003309960443, 0.8131003309960442, 0.08131003309960443, 0.877918464087299, 0.9018440515651922, 0.7717494026279894, 0.1543498805255979, 0.7148312864033849, 0.17870782160084622, 0.15546228854624772, 0.46638686563874315, 0.06218491541849909, 0.31092457709249544, 0.11737418830746979, 0.8216193181522885, 0.8420961490030315, 0.9101998336147362, 0.02072503368538515, 0.062175101056155445, 0.9119014821569466, 0.02072503368538515, 0.9214173126477612, 0.35494866521165747, 0.4517528466330186, 0.06453612094757409, 0.12907224189514818, 0.04045817561004912, 0.8091635122009825, 0.16183270244019649, 0.14057901570310102, 0.14057901570310102, 0.7028950785155051, 0.19426731077102424, 0.06475577025700807, 0.3885346215420485, 0.35615673641354445, 0.9237408780560157, 0.0665700411598975, 0.4992753086992312, 0.39942024695938494, 0.03328502057994875, 0.18659532743630747, 0.2798929911544612, 0.5131371504498455, 0.7054304030026728, 0.1763576007506682, 0.6209404863303335, 0.10798964979657973, 0.2429767120423044, 0.02699741244914493, 0.25526011773621365, 0.08508670591207122, 0.4424508707427704, 0.2212254353713852, 0.9237259048726382, 0.7846094662389652, 0.09807618327987065, 0.09807618327987065, 0.8765886138168649, 0.05695403275684286, 0.9112645241094858, 0.02847701637842143, 0.16107994686653473, 0.21477326248871298, 0.6443197874661389, 0.18067930682625516, 0.18928308334179111, 0.3613586136525103, 0.26671707198161476, 0.21445477485645417, 0.7505917119975896, 0.10722738742822709, 0.8212299449788014, 0.1173185635684002, 0.6736842713975602, 0.13473685427951204, 0.13473685427951204, 0.769178950611947, 0.15383579012238938, 0.11726206667371641, 0.8208344667160149, 0.3450917513470018, 0.08627293783675045, 0.3834352792744465, 0.18213175765536208, 0.13163704533899978, 0.13163704533899978, 0.7898222720339987, 0.03394646766469412, 0.1697323383234706, 0.03394646766469412, 0.7468222886232706, 0.21659199106878751, 0.2953527150938012, 0.1969018100625341, 0.2953527150938012, 0.9127071257237347, 0.07020824044028728, 0.8978276503840303, 0.657991866185358, 0.07895902394224295, 0.2631967464741432, 0.8073166843489517, 0.12420256682291562, 0.08387500573508938, 0.47529169916550645, 0.2795833524502979, 0.13979167622514896, 0.5348813524183188, 0.35658756827887916, 0.08914689206971979, 0.9016863644163573, 0.7173578960893436, 0.26900921103350384, 0.10528712196768983, 0.10528712196768983, 0.8422969757415186, 0.7905633849214517, 0.1317605641535753, 0.1317605641535753, 0.1584237985986109, 0.5808872615282399, 0.2640396643310181, 0.6471433146172894, 0.10785721910288157, 0.17976203183813594, 0.07190481273525438, 0.4063418240261584, 0.1625367296104634, 0.2925661132988341, 0.14628305664941704, 0.11961841734257272, 0.11961841734257272, 0.7177105040554363, 0.11961841734257272, 0.6425050439155824, 0.2141683479718608, 0.24527118854014687, 0.04905423770802938, 0.6867593279124112, 0.09550717724917654, 0.8595645952425889, 0.24753417286396906, 0.1100151879395418, 0.46756454874305264, 0.16502278190931272, 0.7441299471862991, 0.06764817701693628, 0.13529635403387255, 0.14118501415577075, 0.5206197396994047, 0.12353688738629942, 0.21177752123365615, 0.3664713462279357, 0.21988280773676142, 0.40311848085072927, 0.8782213574633155, 0.8865727513866797, 0.17325875796077667, 0.36817486066665045, 0.17325875796077667, 0.2815454816862621, 0.09570510736633313, 0.33496787578216597, 0.5742306441979987, 0.11636698955480002, 0.8727524216610001, 0.3326817383220784, 0.1901038504697591, 0.23762981308719888, 0.21386683177847898, 0.15105317636494128, 0.7552658818247064, 0.16682741576131252, 0.6673096630452501, 0.16682741576131252, 0.7451276425165821, 0.24837588083886072, 0.17613580991222663, 0.7926111446050199, 0.6567759244825062, 0.2985345111284119, 0.05970690222568238, 0.8977068911364234, 0.8780540052642097, 0.13200888647167355, 0.7920533188300413, 0.08438765226472894, 0.29535678292655126, 0.04219382613236447, 0.5485197397207381, 0.0878355029167826, 0.1317532543751739, 0.7905195262510434, 0.1342601479657842, 0.223766913276307, 0.6265473571736596, 0.7145951193232477, 0.17864877983081193, 0.1787176175947544, 0.7148704703790176, 0.11707136155821228, 0.819499530907486, 0.5166190360415134, 0.043051586336792784, 0.3013611043575495, 0.17220634534717114, 0.22727391643830394, 0.5303058050227092, 0.03787898607305066, 0.15151594429220264, 0.629358651118647, 0.18356293990960537, 0.07866983138983087, 0.10489310851977449, 0.26463517366129524, 0.6615879341532381, 0.9341912297276944, 0.7467353470297574, 0.16594118822883497, 0.8768812685886099], \"Term\": [\"acabado\", \"acabado\", \"aceptable\", \"aceptable\", \"acierto\", \"acierto\", \"adapta\", \"adapta\", \"adecuado\", \"adecuado\", \"ah\\u00ed\", \"alg\\u00fan\", \"alg\\u00fan\", \"amazon\", \"amazon\", \"amazon\", \"anillo\", \"anillo\", \"as\\u00ed\", \"as\\u00ed\", \"as\\u00ed\", \"as\\u00ed\", \"aunque\", \"aunque\", \"aunque\", \"aunque\", \"bastante\", \"bastante\", \"bastante\", \"bastante\", \"bien\", \"bien\", \"bien\", \"bien\", \"bonita\", \"bonita\", \"bonita\", \"bonito\", \"bonito\", \"bonito\", \"bonito\", \"bonitos\", \"bonitos\", \"bonitos\", \"bonitos\", \"buen\", \"buen\", \"buen\", \"buen\", \"buena\", \"buena\", \"buena\", \"buena\", \"cabe\", \"cabe\", \"cadena\", \"cadena\", \"cadena\", \"caja\", \"caja\", \"caja\", \"caja\", \"calidad\", \"calidad\", \"calidad\", \"calidad\", \"carga\", \"carga\", \"casa\", \"casa\", \"casa\", \"casi\", \"casi\", \"casi\", \"cd\", \"cd\", \"cerrar\", \"colgante\", \"colgante\", \"colgante\", \"colgante\", \"collar\", \"collar\", \"collar\", \"color\", \"color\", \"color\", \"color\", \"comprado\", \"comprado\", \"comprar\", \"comprar\", \"conjunto\", \"conjunto\", \"consola\", \"contento\", \"cuello\", \"cumple\", \"cumple\", \"cumple\", \"c\\u00f3digo\", \"c\\u00f3modo\", \"c\\u00f3modo\", \"deber\\u00edan\", \"demasiado\", \"demasiado\", \"demasiado\", \"despu\\u00e9s\", \"despu\\u00e9s\", \"despu\\u00e9s\", \"despu\\u00e9s\", \"devolver\", \"devolver\", \"devolverlo\", \"devolverlo\", \"dice\", \"dice\", \"dinero\", \"dinero\", \"dio\", \"dio\", \"disco\", \"disco\", \"disco\", \"divertido\", \"dorado\", \"dorado\", \"dos\", \"dos\", \"dos\", \"dos\", \"d\\u00eda\", \"d\\u00eda\", \"d\\u00eda\", \"d\\u00eda\", \"d\\u00edas\", \"d\\u00edas\", \"d\\u00edas\", \"elegante\", \"elegante\", \"elegante\", \"encanta\", \"encanta\", \"encantada\", \"encantada\", \"encantada\", \"encantado\", \"encantado\", \"encant\\u00f3\", \"encant\\u00f3\", \"entrega\", \"entrega\", \"entrega\", \"entrega\", \"entregado\", \"entregado\", \"envio\", \"envio\", \"espa\\u00f1ol\", \"espa\\u00f1ol\", \"esperaba\", \"esperaba\", \"esperaba\", \"esperaba\", \"fino\", \"foto\", \"foto\", \"foto\", \"foto\", \"funciona\", \"funciona\", \"funciona\", \"funciona\", \"funcionar\", \"funci\\u00f3n\", \"gracias\", \"gracias\", \"gracias\", \"gracias\", \"grande\", \"grande\", \"grande\", \"grande\", \"grandes\", \"grandes\", \"grandes\", \"gusta\", \"gusta\", \"gusta\", \"gustado\", \"gustado\", \"gustado\", \"gustado\", \"gusto\", \"gusto\", \"gusto\", \"gust\\u00f3\", \"hacer\", \"hacer\", \"hija\", \"hija\", \"historia\", \"horas\", \"horas\", \"igual\", \"igual\", \"igualmente\", \"igualmente\", \"ingles\", \"interesante\", \"italiano\", \"italiano\", \"juegazo\", \"juego\", \"juego\", \"juego\", \"juego\", \"jugabilidad\", \"jugabilidad\", \"jugar\", \"jugar\", \"jugar\", \"jugar\", \"juguete\", \"junto\", \"junto\", \"lamentable\", \"lamentable\", \"llegado\", \"llegado\", \"llegado\", \"llegado\", \"llego\", \"llego\", \"llego\", \"lleg\\u00f3\", \"lleg\\u00f3\", \"lleg\\u00f3\", \"lleg\\u00f3\", \"luces\", \"luces\", \"mal\", \"mal\", \"mal\", \"mal\", \"malo\", \"mando\", \"mando\", \"mando\", \"mando\", \"mandos\", \"mandos\", \"mandos\", \"mas\", \"mas\", \"mas\", \"mas\", \"material\", \"material\", \"material\", \"material\", \"mayor\", \"mayor\", \"mejor\", \"mejor\", \"mejor\", \"mejor\", \"merece\", \"misma\", \"misma\", \"modo\", \"modo\", \"mont\\u00f3n\", \"mujer\", \"mujer\", \"mujer\", \"mu\\u00f1eca\", \"ni\\u00f1os\", \"one\", \"one\", \"opini\\u00f3n\", \"opini\\u00f3n\", \"original\", \"original\", \"original\", \"original\", \"originales\", \"originales\", \"pandora\", \"paquete\", \"parece\", \"parece\", \"parece\", \"parece\", \"parecido\", \"parte\", \"parte\", \"parte\", \"parte\", \"pedido\", \"pedido\", \"pedido\", \"ped\\u00ed\", \"ped\\u00ed\", \"ped\\u00ed\", \"pena\", \"pena\", \"pena\", \"pena\", \"peque\\u00f1as\", \"peque\\u00f1o\", \"peque\\u00f1o\", \"peque\\u00f1o\", \"peque\\u00f1o\", \"peque\\u00f1os\", \"peque\\u00f1os\", \"peque\\u00f1os\", \"perfecta\", \"perfecta\", \"perfectamente\", \"perfectamente\", \"perfectamente\", \"perfectamente\", \"perfecto\", \"perfecto\", \"perfecto\", \"perfecto\", \"perlas\", \"piedra\", \"piedra\", \"piedra\", \"piel\", \"plata\", \"plata\", \"plata\", \"pl\\u00e1stico\", \"pl\\u00e1stico\", \"pl\\u00e1stico\", \"precio\", \"precio\", \"precio\", \"precio\", \"preciosa\", \"preciosa\", \"preciosa\", \"presentaci\\u00f3n\", \"presentaci\\u00f3n\", \"previsto\", \"previsto\", \"previsto\", \"prime\", \"prime\", \"pro\", \"pro\", \"producto\", \"producto\", \"producto\", \"producto\", \"productos\", \"productos\", \"productos\", \"ps\", \"ps\", \"ps\", \"ps\", \"puede\", \"puede\", \"puede\", \"puede\", \"puedes\", \"puedes\", \"puesta\", \"pulsera\", \"pulsera\", \"pulsera\", \"q\", \"q\", \"queda\", \"queda\", \"queda\", \"queda\", \"quedan\", \"quedan\", \"quedan\", \"rapidez\", \"rapido\", \"rapido\", \"rat\\u00f3n\", \"rat\\u00f3n\", \"rat\\u00f3n\", \"realidad\", \"realidad\", \"realidad\", \"recomendable\", \"recomendable\", \"recomendable\", \"recomiendo\", \"recomiendo\", \"recomiendo\", \"recomiendo\", \"regalo\", \"regalo\", \"regalo\", \"regalo\", \"resulta\", \"resulta\", \"resulta\", \"resulta\", \"rompi\\u00f3\", \"rompi\\u00f3\", \"r\\u00e1pido\", \"r\\u00e1pido\", \"r\\u00e1pido\", \"semana\", \"semana\", \"ser\", \"ser\", \"ser\", \"ser\", \"servicio\", \"servicio\", \"servicio\", \"si\", \"si\", \"si\", \"si\", \"sido\", \"sido\", \"sido\", \"simplemente\", \"sitio\", \"solo\", \"solo\", \"solo\", \"solo\", \"switch\", \"switch\", \"switch\", \"tama\\u00f1o\", \"tama\\u00f1o\", \"tiempo\", \"tiempo\", \"tiempo\", \"tiempo\", \"tiendas\", \"tiendas\", \"todas\", \"todas\", \"todas\", \"todav\\u00eda\", \"todav\\u00eda\", \"totalmente\", \"totalmente\", \"trae\", \"trae\", \"trae\", \"tra\\u00eda\", \"usado\", \"usb\", \"usb\", \"uso\", \"uso\", \"uso\", \"uso\", \"va\", \"va\", \"va\", \"ve\", \"ve\", \"ve\", \"venga\", \"venga\", \"venido\", \"venido\", \"veo\", \"veo\", \"verdad\", \"verdad\", \"verdad\", \"verdad\", \"vez\", \"vez\", \"vez\", \"vez\", \"viene\", \"viene\", \"viene\", \"viene\", \"volver\\u00eda\", \"volver\\u00eda\", \"voy\", \"xbox\", \"xbox\", \"\\u00fanica\"]}, \"R\": 30, \"lambda.step\": 0.01, \"plot.opts\": {\"xlab\": \"PC1\", \"ylab\": \"PC2\"}, \"topic.order\": [4, 3, 1, 2]};\n",
       "\n",
       "function LDAvis_load_lib(url, callback){\n",
       "  var s = document.createElement('script');\n",
       "  s.src = url;\n",
       "  s.async = true;\n",
       "  s.onreadystatechange = s.onload = callback;\n",
       "  s.onerror = function(){console.warn(\"failed to load library \" + url);};\n",
       "  document.getElementsByTagName(\"head\")[0].appendChild(s);\n",
       "}\n",
       "\n",
       "if(typeof(LDAvis) !== \"undefined\"){\n",
       "   // already loaded: just create the visualization\n",
       "   !function(LDAvis){\n",
       "       new LDAvis(\"#\" + \"ldavis_el1414416672518702888894703795\", ldavis_el1414416672518702888894703795_data);\n",
       "   }(LDAvis);\n",
       "}else if(typeof define === \"function\" && define.amd){\n",
       "   // require.js is available: use it to load d3/LDAvis\n",
       "   require.config({paths: {d3: \"https://d3js.org/d3.v5\"}});\n",
       "   require([\"d3\"], function(d3){\n",
       "      window.d3 = d3;\n",
       "      LDAvis_load_lib(\"https://cdn.jsdelivr.net/gh/bmabey/pyLDAvis@3.3.1/pyLDAvis/js/ldavis.v3.0.0.js\", function(){\n",
       "        new LDAvis(\"#\" + \"ldavis_el1414416672518702888894703795\", ldavis_el1414416672518702888894703795_data);\n",
       "      });\n",
       "    });\n",
       "}else{\n",
       "    // require.js not available: dynamically load d3 & LDAvis\n",
       "    LDAvis_load_lib(\"https://d3js.org/d3.v5.js\", function(){\n",
       "         LDAvis_load_lib(\"https://cdn.jsdelivr.net/gh/bmabey/pyLDAvis@3.3.1/pyLDAvis/js/ldavis.v3.0.0.js\", function(){\n",
       "                 new LDAvis(\"#\" + \"ldavis_el1414416672518702888894703795\", ldavis_el1414416672518702888894703795_data);\n",
       "            })\n",
       "         });\n",
       "}\n",
       "</script>"
      ],
      "text/plain": [
       "<IPython.core.display.HTML object>"
      ]
     },
     "execution_count": 8,
     "metadata": {},
     "output_type": "execute_result"
    }
   ],
   "source": [
    "lda_display = pyLDAvis.gensim_models.prepare(model, corpus, dictionary, sort_topics=True)\n",
    "pyLDAvis.display(lda_display)"
   ]
  },
  {
   "cell_type": "markdown",
   "metadata": {},
   "source": [
    "###  `[3 pts]` Preguntas\n",
    "\n",
    "- ¿Qué conclusiones puede sacar de los resultados de los últimos tres talleres, usando diferentes modelos pero los mismos datos?\n",
    "\n",
    "\n",
    "- Es muy importante analizar el set de datos que se tiene antes de escoger el modelo a entrenar ya que a pesar de usar el mismo set de datos en los tres talleres anteriores se obtienen mejores resultados con un algoritmo supervisado ya que se cuentan con las etiquetas. Claro está que depende del resultado que esperemos o se requiera, en caso de necesitar un mayor número de agrupaciones al número de etiquetas existenes resulta conveniente usar un algoritmo de clustering."
   ]
  }
 ],
 "metadata": {
  "kernelspec": {
   "display_name": "Python 3",
   "language": "python",
   "name": "python3"
  },
  "language_info": {
   "codemirror_mode": {
    "name": "ipython",
    "version": 3
   },
   "file_extension": ".py",
   "mimetype": "text/x-python",
   "name": "python",
   "nbconvert_exporter": "python",
   "pygments_lexer": "ipython3",
   "version": "3.8.5"
  }
 },
 "nbformat": 4,
 "nbformat_minor": 2
}
