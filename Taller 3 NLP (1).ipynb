{
 "cells": [
  {
   "cell_type": "code",
   "execution_count": 2,
   "metadata": {},
   "outputs": [
    {
     "name": "stdout",
     "output_type": "stream",
     "text": [
      "Requirement already satisfied: beautifulsoup4 in c:\\users\\usuario\\anaconda3\\lib\\site-packages (4.8.0)\n",
      "Requirement already satisfied: soupsieve>=1.2 in c:\\users\\usuario\\anaconda3\\lib\\site-packages (from beautifulsoup4) (1.9.3)\n"
     ]
    }
   ],
   "source": [
    "! pip install beautifulsoup4"
   ]
  },
  {
   "cell_type": "code",
   "execution_count": 8,
   "metadata": {},
   "outputs": [],
   "source": [
    "import bs4 as bs \n",
    "import urllib.request"
   ]
  },
  {
   "cell_type": "code",
   "execution_count": 110,
   "metadata": {},
   "outputs": [
    {
     "data": {
      "text/plain": [
       "['https://es.wikipedia.org/wiki/Felis_silvestris_catus',\n",
       " 'https://es.wikipedia.org/wiki/Elephantidae',\n",
       " 'https://es.wikipedia.org/wiki/%C3%81guila',\n",
       " 'https://es.wikipedia.org/wiki/Dinosauria',\n",
       " 'https://en.wikipedia.org/wiki/Rhinoceros',\n",
       " 'https://es.wikipedia.org/wiki/Panthera_leo',\n",
       " 'https://es.wikipedia.org/wiki/Acinonyx_jubatus',\n",
       " 'https://es.wikipedia.org/wiki/Chiroptera',\n",
       " 'https://es.wikipedia.org/wiki/Araneae',\n",
       " 'https://es.wikipedia.org/wiki/Crocodilia']"
      ]
     },
     "execution_count": 110,
     "metadata": {},
     "output_type": "execute_result"
    }
   ],
   "source": [
    "link = ['https://es.wikipedia.org/wiki/Felis_silvestris_catus'\n",
    "        ,'https://es.wikipedia.org/wiki/Elephantidae'\n",
    "        ,'https://es.wikipedia.org/wiki/%C3%81guila'\n",
    "        ,'https://es.wikipedia.org/wiki/Dinosauria'\n",
    "        ,'https://en.wikipedia.org/wiki/Rhinoceros'\n",
    "        ,'https://es.wikipedia.org/wiki/Panthera_leo'\n",
    "        ,'https://es.wikipedia.org/wiki/Acinonyx_jubatus'\n",
    "        ,'https://es.wikipedia.org/wiki/Chiroptera'\n",
    "        ,'https://es.wikipedia.org/wiki/Araneae'\n",
    "        ,'https://es.wikipedia.org/wiki/Crocodilia']\n",
    "\n",
    "\n",
    "# link = 'https://es.wikipedia.org/wiki/Elephantidae'\n",
    "link"
   ]
  },
  {
   "cell_type": "code",
   "execution_count": 64,
   "metadata": {
    "scrolled": true
   },
   "outputs": [
    {
     "name": "stdout",
     "output_type": "stream",
     "text": [
      "Felis silvestris catus\n",
      "Elephantidae\n",
      "Águila\n",
      "Dinosauria\n",
      "Rhinoceros\n",
      "Panthera leo\n",
      "Acinonyx jubatus\n",
      "Chiroptera\n",
      "Araneae\n",
      "Crocodilia\n"
     ]
    }
   ],
   "source": [
    "for i in link:\n",
    "    request = urllib.request.Request(i,headers={'User-Agent':'Mozilla/5.0'})\n",
    "    webpage = urllib.request.urlopen(request)\n",
    "    source = webpage.read()\n",
    "    webpage.close()\n",
    "    soup = bs.BeautifulSoup(source,'html.parser')\n",
    "    t  = soup.find(property = \"og:title\")\n",
    "    titulo = t.get(\"content\")\n",
    "    print(titulo)"
   ]
  },
  {
   "cell_type": "code",
   "execution_count": 175,
   "metadata": {},
   "outputs": [
    {
     "name": "stdout",
     "output_type": "stream",
     "text": [
      "gato doméstico\n",
      "Felis silvestris catus\n",
      "gato\n",
      "minino\n",
      "michino\n",
      "michi\n",
      "micho\n",
      "mizo\n",
      "miz\n",
      "morroño\n",
      "morrongo\n",
      "elefantes\n",
      "elefántidos\n",
      "Elephantidae\n",
      "Águila\n",
      "dinosaurios\n",
      "Dinosauria\n",
      "león\n",
      "Panthera leo\n",
      "guepardo\n",
      "chita\n",
      "Acinonyx jubatus\n",
      "quirópteros\n",
      "Chiroptera\n",
      "murciélagos\n",
      "arañas\n",
      "Araneae\n",
      "crocodilios\n",
      "Crocodilia\n",
      "cocodrilos\n",
      "gaviales\n",
      "aligátores\n",
      "caimanes\n"
     ]
    }
   ],
   "source": [
    "lis = []\n",
    "for i in link:\n",
    "    request = urllib.request.Request(i,headers={'User-Agent':'Mozilla/5.0'})\n",
    "    webpage = urllib.request.urlopen(request)\n",
    "    source = webpage.read()\n",
    "    webpage.close()\n",
    "    soup = bs.BeautifulSoup(source,'html.parser')\n",
    "    parr = soup.find(class_ = \"mw-parser-output\")\n",
    "    parr_hijo = parr.findChildren(\"p\", recursive=False)[0]\n",
    "    a = parr_hijo.find_all(\"b\")\n",
    "    for x in a:\n",
    "        lis.append(x.text)    \n",
    "for t in lis:\n",
    "    print(t)"
   ]
  },
  {
   "cell_type": "code",
   "execution_count": 177,
   "metadata": {},
   "outputs": [
    {
     "name": "stdout",
     "output_type": "stream",
     "text": [
      "gato dom*stico\n",
      "Felis silvestris catus\n",
      "gato\n",
      "minino\n",
      "michino\n",
      "michi\n",
      "micho\n",
      "mizo\n",
      "miz\n",
      "morroño\n",
      "morrongo\n",
      "elefantes\n",
      "elef*ntidos\n",
      "Elephantidae\n",
      "*guila\n",
      "dinosaurios\n",
      "Dinosauria\n",
      "le*n\n",
      "Panthera leo\n",
      "guepardo\n",
      "chita\n",
      "Acinonyx jubatus\n",
      "quir*pteros\n",
      "Chiroptera\n",
      "murci*lagos\n",
      "arañas\n",
      "Araneae\n",
      "crocodilios\n",
      "Crocodilia\n",
      "cocodrilos\n",
      "gaviales\n",
      "alig*tores\n",
      "caimanes\n"
     ]
    }
   ],
   "source": [
    "lis = []\n",
    "for i in link:\n",
    "    request = urllib.request.Request(i,headers={'User-Agent':'Mozilla/5.0'})\n",
    "    webpage = urllib.request.urlopen(request)\n",
    "    source = webpage.read()\n",
    "    webpage.close()\n",
    "    soup = bs.BeautifulSoup(source,'html.parser')\n",
    "    parr = soup.find(class_ = \"mw-parser-output\")\n",
    "    parr_hijo = parr.findChildren(\"p\", recursive=False)[0]\n",
    "    a = parr_hijo.find_all(\"b\")\n",
    "    for x in a:\n",
    "        lis.append(x.text)    \n",
    "for t in lis:\n",
    "    print(re.sub(r'[áéíóúÁÉÍÓÚ]','*',t))\n",
    "# print(lista)\n"
   ]
  }
 ],
 "metadata": {
  "kernelspec": {
   "display_name": "Python 3",
   "language": "python",
   "name": "python3"
  },
  "language_info": {
   "codemirror_mode": {
    "name": "ipython",
    "version": 3
   },
   "file_extension": ".py",
   "mimetype": "text/x-python",
   "name": "python",
   "nbconvert_exporter": "python",
   "pygments_lexer": "ipython3",
   "version": "3.7.4"
  }
 },
 "nbformat": 4,
 "nbformat_minor": 2
}
